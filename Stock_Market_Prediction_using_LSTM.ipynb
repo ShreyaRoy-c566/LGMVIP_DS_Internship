{
  "nbformat": 4,
  "nbformat_minor": 0,
  "metadata": {
    "colab": {
      "name": "Stock Market Prediction using  LSTM.ipynb",
      "provenance": [],
      "collapsed_sections": [],
      "authorship_tag": "ABX9TyMJIJ7aB7qu0m1m8TMxyF4T",
      "include_colab_link": true
    },
    "kernelspec": {
      "name": "python3",
      "display_name": "Python 3"
    },
    "language_info": {
      "name": "python"
    }
  },
  "cells": [
    {
      "cell_type": "markdown",
      "metadata": {
        "id": "view-in-github",
        "colab_type": "text"
      },
      "source": [
        "<a href=\"https://colab.research.google.com/github/ShreyaRoy-c566/LGMVIP_DS_Internship/blob/main/Stock_Market_Prediction_using_LSTM.ipynb\" target=\"_parent\"><img src=\"https://colab.research.google.com/assets/colab-badge.svg\" alt=\"Open In Colab\"/></a>"
      ]
    },
    {
      "cell_type": "markdown",
      "metadata": {
        "id": "rZOMjoiMTB54"
      },
      "source": [
        "# Stock Market Prediction And Forecasting Using Stacked LSTM"
      ]
    },
    {
      "cell_type": "code",
      "metadata": {
        "id": "nGPf3t7fTFb5"
      },
      "source": [
        "import io\n",
        "import pandas as pd\n",
        "import numpy as np\n",
        "import math\n",
        "import matplotlib.pyplot as plt\n",
        "from sklearn.preprocessing import MinMaxScaler\n",
        "from sklearn.metrics import mean_squared_error\n",
        "import tensorflow as tf\n",
        "from tensorflow.python.keras.models import Sequential\n",
        "from tensorflow.python.keras.layers import Dense\n",
        "from tensorflow.python.keras.layers import LSTM\n",
        "%matplotlib inline\n",
        "import pandas_datareader as pdr\n",
        "key=\"\""
      ],
      "execution_count": null,
      "outputs": []
    },
    {
      "cell_type": "code",
      "metadata": {
        "colab": {
          "base_uri": "https://localhost:8080/"
        },
        "id": "sKuw46KOVUSV",
        "outputId": "22be8728-ca00-4b45-e158-d4da3e62d715"
      },
      "source": [
        "\n",
        "url = 'https://raw.githubusercontent.com/mwitiderrick/stockprice/master/NSE-TATAGLOBAL.csv'\n",
        "df = pd.read_csv(url)\n",
        "print(df)"
      ],
      "execution_count": null,
      "outputs": [
        {
          "output_type": "stream",
          "name": "stdout",
          "text": [
            "            Date    Open    High  ...   Close  Total Trade Quantity  Turnover (Lacs)\n",
            "0     2018-09-28  234.05  235.95  ...  233.75               3069914          7162.35\n",
            "1     2018-09-27  234.55  236.80  ...  233.25               5082859         11859.95\n",
            "2     2018-09-26  240.00  240.00  ...  234.25               2240909          5248.60\n",
            "3     2018-09-25  233.30  236.75  ...  236.10               2349368          5503.90\n",
            "4     2018-09-24  233.55  239.20  ...  233.30               3423509          7999.55\n",
            "...          ...     ...     ...  ...     ...                   ...              ...\n",
            "2030  2010-07-27  117.60  119.50  ...  118.65                586100           694.98\n",
            "2031  2010-07-26  120.10  121.00  ...  117.60                658440           780.01\n",
            "2032  2010-07-23  121.80  121.95  ...  120.65                281312           340.31\n",
            "2033  2010-07-22  120.30  122.00  ...  120.90                293312           355.17\n",
            "2034  2010-07-21  122.10  123.00  ...  121.55                658666           803.56\n",
            "\n",
            "[2035 rows x 8 columns]\n"
          ]
        }
      ]
    },
    {
      "cell_type": "code",
      "metadata": {
        "colab": {
          "base_uri": "https://localhost:8080/",
          "height": 304
        },
        "id": "83DwyGBnVp7f",
        "outputId": "9ca65d4e-2d88-4568-9f62-d2b3af63ad10"
      },
      "source": [
        "#Import the data and remove rows containing NAN values\n",
        "df = df.dropna()\n",
        "df.head()"
      ],
      "execution_count": null,
      "outputs": [
        {
          "output_type": "execute_result",
          "data": {
            "text/html": [
              "<div>\n",
              "<style scoped>\n",
              "    .dataframe tbody tr th:only-of-type {\n",
              "        vertical-align: middle;\n",
              "    }\n",
              "\n",
              "    .dataframe tbody tr th {\n",
              "        vertical-align: top;\n",
              "    }\n",
              "\n",
              "    .dataframe thead th {\n",
              "        text-align: right;\n",
              "    }\n",
              "</style>\n",
              "<table border=\"1\" class=\"dataframe\">\n",
              "  <thead>\n",
              "    <tr style=\"text-align: right;\">\n",
              "      <th></th>\n",
              "      <th>Date</th>\n",
              "      <th>Open</th>\n",
              "      <th>High</th>\n",
              "      <th>Low</th>\n",
              "      <th>Last</th>\n",
              "      <th>Close</th>\n",
              "      <th>Total Trade Quantity</th>\n",
              "      <th>Turnover (Lacs)</th>\n",
              "    </tr>\n",
              "  </thead>\n",
              "  <tbody>\n",
              "    <tr>\n",
              "      <th>0</th>\n",
              "      <td>2018-09-28</td>\n",
              "      <td>234.05</td>\n",
              "      <td>235.95</td>\n",
              "      <td>230.20</td>\n",
              "      <td>233.50</td>\n",
              "      <td>233.75</td>\n",
              "      <td>3069914</td>\n",
              "      <td>7162.35</td>\n",
              "    </tr>\n",
              "    <tr>\n",
              "      <th>1</th>\n",
              "      <td>2018-09-27</td>\n",
              "      <td>234.55</td>\n",
              "      <td>236.80</td>\n",
              "      <td>231.10</td>\n",
              "      <td>233.80</td>\n",
              "      <td>233.25</td>\n",
              "      <td>5082859</td>\n",
              "      <td>11859.95</td>\n",
              "    </tr>\n",
              "    <tr>\n",
              "      <th>2</th>\n",
              "      <td>2018-09-26</td>\n",
              "      <td>240.00</td>\n",
              "      <td>240.00</td>\n",
              "      <td>232.50</td>\n",
              "      <td>235.00</td>\n",
              "      <td>234.25</td>\n",
              "      <td>2240909</td>\n",
              "      <td>5248.60</td>\n",
              "    </tr>\n",
              "    <tr>\n",
              "      <th>3</th>\n",
              "      <td>2018-09-25</td>\n",
              "      <td>233.30</td>\n",
              "      <td>236.75</td>\n",
              "      <td>232.00</td>\n",
              "      <td>236.25</td>\n",
              "      <td>236.10</td>\n",
              "      <td>2349368</td>\n",
              "      <td>5503.90</td>\n",
              "    </tr>\n",
              "    <tr>\n",
              "      <th>4</th>\n",
              "      <td>2018-09-24</td>\n",
              "      <td>233.55</td>\n",
              "      <td>239.20</td>\n",
              "      <td>230.75</td>\n",
              "      <td>234.00</td>\n",
              "      <td>233.30</td>\n",
              "      <td>3423509</td>\n",
              "      <td>7999.55</td>\n",
              "    </tr>\n",
              "  </tbody>\n",
              "</table>\n",
              "</div>"
            ],
            "text/plain": [
              "         Date    Open    High  ...   Close  Total Trade Quantity  Turnover (Lacs)\n",
              "0  2018-09-28  234.05  235.95  ...  233.75               3069914          7162.35\n",
              "1  2018-09-27  234.55  236.80  ...  233.25               5082859         11859.95\n",
              "2  2018-09-26  240.00  240.00  ...  234.25               2240909          5248.60\n",
              "3  2018-09-25  233.30  236.75  ...  236.10               2349368          5503.90\n",
              "4  2018-09-24  233.55  239.20  ...  233.30               3423509          7999.55\n",
              "\n",
              "[5 rows x 8 columns]"
            ]
          },
          "metadata": {},
          "execution_count": 6
        }
      ]
    },
    {
      "cell_type": "code",
      "metadata": {
        "colab": {
          "base_uri": "https://localhost:8080/",
          "height": 304
        },
        "id": "V1izJ0AcVxWM",
        "outputId": "445a257e-2e0b-4dd7-9c44-cce6d3a2b0bd"
      },
      "source": [
        "df.tail()"
      ],
      "execution_count": null,
      "outputs": [
        {
          "output_type": "execute_result",
          "data": {
            "text/html": [
              "<div>\n",
              "<style scoped>\n",
              "    .dataframe tbody tr th:only-of-type {\n",
              "        vertical-align: middle;\n",
              "    }\n",
              "\n",
              "    .dataframe tbody tr th {\n",
              "        vertical-align: top;\n",
              "    }\n",
              "\n",
              "    .dataframe thead th {\n",
              "        text-align: right;\n",
              "    }\n",
              "</style>\n",
              "<table border=\"1\" class=\"dataframe\">\n",
              "  <thead>\n",
              "    <tr style=\"text-align: right;\">\n",
              "      <th></th>\n",
              "      <th>Date</th>\n",
              "      <th>Open</th>\n",
              "      <th>High</th>\n",
              "      <th>Low</th>\n",
              "      <th>Last</th>\n",
              "      <th>Close</th>\n",
              "      <th>Total Trade Quantity</th>\n",
              "      <th>Turnover (Lacs)</th>\n",
              "    </tr>\n",
              "  </thead>\n",
              "  <tbody>\n",
              "    <tr>\n",
              "      <th>2030</th>\n",
              "      <td>2010-07-27</td>\n",
              "      <td>117.6</td>\n",
              "      <td>119.50</td>\n",
              "      <td>112.00</td>\n",
              "      <td>118.80</td>\n",
              "      <td>118.65</td>\n",
              "      <td>586100</td>\n",
              "      <td>694.98</td>\n",
              "    </tr>\n",
              "    <tr>\n",
              "      <th>2031</th>\n",
              "      <td>2010-07-26</td>\n",
              "      <td>120.1</td>\n",
              "      <td>121.00</td>\n",
              "      <td>117.10</td>\n",
              "      <td>117.10</td>\n",
              "      <td>117.60</td>\n",
              "      <td>658440</td>\n",
              "      <td>780.01</td>\n",
              "    </tr>\n",
              "    <tr>\n",
              "      <th>2032</th>\n",
              "      <td>2010-07-23</td>\n",
              "      <td>121.8</td>\n",
              "      <td>121.95</td>\n",
              "      <td>120.25</td>\n",
              "      <td>120.35</td>\n",
              "      <td>120.65</td>\n",
              "      <td>281312</td>\n",
              "      <td>340.31</td>\n",
              "    </tr>\n",
              "    <tr>\n",
              "      <th>2033</th>\n",
              "      <td>2010-07-22</td>\n",
              "      <td>120.3</td>\n",
              "      <td>122.00</td>\n",
              "      <td>120.25</td>\n",
              "      <td>120.75</td>\n",
              "      <td>120.90</td>\n",
              "      <td>293312</td>\n",
              "      <td>355.17</td>\n",
              "    </tr>\n",
              "    <tr>\n",
              "      <th>2034</th>\n",
              "      <td>2010-07-21</td>\n",
              "      <td>122.1</td>\n",
              "      <td>123.00</td>\n",
              "      <td>121.05</td>\n",
              "      <td>121.10</td>\n",
              "      <td>121.55</td>\n",
              "      <td>658666</td>\n",
              "      <td>803.56</td>\n",
              "    </tr>\n",
              "  </tbody>\n",
              "</table>\n",
              "</div>"
            ],
            "text/plain": [
              "            Date   Open    High  ...   Close  Total Trade Quantity  Turnover (Lacs)\n",
              "2030  2010-07-27  117.6  119.50  ...  118.65                586100           694.98\n",
              "2031  2010-07-26  120.1  121.00  ...  117.60                658440           780.01\n",
              "2032  2010-07-23  121.8  121.95  ...  120.65                281312           340.31\n",
              "2033  2010-07-22  120.3  122.00  ...  120.90                293312           355.17\n",
              "2034  2010-07-21  122.1  123.00  ...  121.55                658666           803.56\n",
              "\n",
              "[5 rows x 8 columns]"
            ]
          },
          "metadata": {},
          "execution_count": 7
        }
      ]
    },
    {
      "cell_type": "code",
      "metadata": {
        "id": "4xEEhgDhV0NQ"
      },
      "source": [
        "df_close = df['Close']"
      ],
      "execution_count": null,
      "outputs": []
    },
    {
      "cell_type": "code",
      "metadata": {
        "colab": {
          "base_uri": "https://localhost:8080/"
        },
        "id": "PYMB-L3DWz79",
        "outputId": "88978b1a-ecff-4a7a-d630-aca7d566f148"
      },
      "source": [
        "df_close.shape"
      ],
      "execution_count": null,
      "outputs": [
        {
          "output_type": "execute_result",
          "data": {
            "text/plain": [
              "(2035,)"
            ]
          },
          "metadata": {},
          "execution_count": 9
        }
      ]
    },
    {
      "cell_type": "code",
      "metadata": {
        "colab": {
          "base_uri": "https://localhost:8080/",
          "height": 282
        },
        "id": "g31y1AxjW3Ac",
        "outputId": "20747bfb-75c8-4fb4-fc00-ff2f8327225d"
      },
      "source": [
        "plt.plot(df_close)"
      ],
      "execution_count": null,
      "outputs": [
        {
          "output_type": "execute_result",
          "data": {
            "text/plain": [
              "[<matplotlib.lines.Line2D at 0x7f04011d4f50>]"
            ]
          },
          "metadata": {},
          "execution_count": 12
        },
        {
          "output_type": "display_data",
          "data": {
            "image/png": "[encoded data removed]",
            "text/plain": [
              "<Figure size 432x288 with 1 Axes>"
            ]
          },
          "metadata": {
            "needs_background": "light"
          }
        }
      ]
    },
    {
      "cell_type": "code",
      "metadata": {
        "id": "6kxJwsogXDxQ"
      },
      "source": [
        "scaler = MinMaxScaler(feature_range = (0,1))\n",
        "df_close = scaler.fit_transform(np.array(df_close).reshape(-1,1))"
      ],
      "execution_count": null,
      "outputs": []
    },
    {
      "cell_type": "code",
      "metadata": {
        "colab": {
          "base_uri": "https://localhost:8080/"
        },
        "id": "AgEVwu_GXHo4",
        "outputId": "fd16a074-9c67-4abb-fee3-69cdb5105bc7"
      },
      "source": [
        "df_close.shape"
      ],
      "execution_count": null,
      "outputs": [
        {
          "output_type": "execute_result",
          "data": {
            "text/plain": [
              "(2035, 1)"
            ]
          },
          "metadata": {},
          "execution_count": 14
        }
      ]
    },
    {
      "cell_type": "code",
      "metadata": {
        "colab": {
          "base_uri": "https://localhost:8080/"
        },
        "id": "xMSpmfCGXKOf",
        "outputId": "72064cac-8a8c-4694-fd85-c1ab70ae0016"
      },
      "source": [
        "df_close"
      ],
      "execution_count": null,
      "outputs": [
        {
          "output_type": "execute_result",
          "data": {
            "text/plain": [
              "array([[0.62418301],\n",
              "       [0.62214052],\n",
              "       [0.62622549],\n",
              "       ...,\n",
              "       [0.1621732 ],\n",
              "       [0.16319444],\n",
              "       [0.16584967]])"
            ]
          },
          "metadata": {},
          "execution_count": 15
        }
      ]
    },
    {
      "cell_type": "code",
      "metadata": {
        "id": "98GXyZBWXOPG"
      },
      "source": [
        "#Split the data into train and test split\n",
        "training_size = int(len(df_close) * 0.75)\n",
        "test_size = len(df_close) - training_size\n",
        "train_data, test_data = df_close[0:training_size,:], df_close[training_size:len(df_close),:1]"
      ],
      "execution_count": null,
      "outputs": []
    },
    {
      "cell_type": "code",
      "metadata": {
        "id": "qd8sjelgXSWw"
      },
      "source": [
        "def create_dataset(dataset, time_step = 1):\n",
        "    dataX, dataY = [], []\n",
        "    for i in range(len(dataset) - time_step - 1):\n",
        "        a = dataset[i:(i+time_step), 0]\n",
        "        dataX.append(a)\n",
        "        dataY.append(dataset[i+time_step, 0])\n",
        "    return np.array(dataX), np.array(dataY)"
      ],
      "execution_count": null,
      "outputs": []
    },
    {
      "cell_type": "code",
      "metadata": {
        "id": "RdhIq89LXVp3"
      },
      "source": [
        "time_step = 100\n",
        "x_train, y_train = create_dataset(train_data, time_step)\n",
        "x_test, y_test = create_dataset(test_data, time_step)"
      ],
      "execution_count": null,
      "outputs": []
    },
    {
      "cell_type": "code",
      "metadata": {
        "id": "FdjLmn7WXZMJ"
      },
      "source": [
        "#Reshape the input to be [samples, time steps, features] which is the requirement of LSTM\n",
        "x_train = x_train.reshape(x_train.shape[0], x_train.shape[1], 1)\n",
        "x_test = x_test.reshape(x_test.shape[0], x_test.shape[1], 1)"
      ],
      "execution_count": null,
      "outputs": []
    },
    {
      "cell_type": "code",
      "metadata": {
        "id": "6nW4n73fXcVF"
      },
      "source": [
        "#Create the LSTM Model\n",
        "model = Sequential()\n",
        "model.add(LSTM(50, return_sequences = True, input_shape = (100,1)))\n",
        "model.add(LSTM(50, return_sequences = True))\n",
        "model.add(LSTM(50))\n",
        "model.add(Dense(1))\n",
        "model.compile(loss = 'mean_squared_error', optimizer = 'adam')"
      ],
      "execution_count": null,
      "outputs": []
    },
    {
      "cell_type": "code",
      "metadata": {
        "colab": {
          "base_uri": "https://localhost:8080/"
        },
        "id": "YX8cJrRvXfTW",
        "outputId": "4234af0f-2236-4f81-be78-53323a1015ed"
      },
      "source": [
        "model.summary()\n"
      ],
      "execution_count": null,
      "outputs": [
        {
          "output_type": "stream",
          "name": "stdout",
          "text": [
            "Model: \"sequential\"\n",
            "_________________________________________________________________\n",
            "Layer (type)                 Output Shape              Param #   \n",
            "=================================================================\n",
            "lstm (LSTM)                  (None, 100, 50)           10400     \n",
            "_________________________________________________________________\n",
            "lstm_1 (LSTM)                (None, 100, 50)           20200     \n",
            "_________________________________________________________________\n",
            "lstm_2 (LSTM)                (None, 50)                20200     \n",
            "_________________________________________________________________\n",
            "dense (Dense)                (None, 1)                 51        \n",
            "=================================================================\n",
            "Total params: 50,851\n",
            "Trainable params: 50,851\n",
            "Non-trainable params: 0\n",
            "_________________________________________________________________\n"
          ]
        }
      ]
    },
    {
      "cell_type": "code",
      "metadata": {
        "colab": {
          "base_uri": "https://localhost:8080/"
        },
        "id": "lVHk0nbHZAyC",
        "outputId": "19e0a87d-e7ae-4e4c-a206-a3c6b69a8cb1"
      },
      "source": [
        "model.fit(x_train, y_train, validation_data = (x_test, y_test), epochs = 100, batch_size = 64, verbose = 1)\n"
      ],
      "execution_count": null,
      "outputs": [
        {
          "output_type": "stream",
          "name": "stdout",
          "text": [
            "Epoch 1/100\n",
            "23/23 [==============================] - 16s 390ms/step - loss: 0.0228 - val_loss: 0.0103\n",
            "Epoch 2/100\n",
            "23/23 [==============================] - 8s 353ms/step - loss: 0.0028 - val_loss: 9.5170e-04\n",
            "Epoch 3/100\n",
            "23/23 [==============================] - 8s 354ms/step - loss: 0.0014 - val_loss: 0.0017\n",
            "Epoch 4/100\n",
            "23/23 [==============================] - 8s 351ms/step - loss: 0.0013 - val_loss: 0.0013\n",
            "Epoch 5/100\n",
            "23/23 [==============================] - 8s 347ms/step - loss: 0.0013 - val_loss: 0.0016\n",
            "Epoch 6/100\n",
            "23/23 [==============================] - 8s 346ms/step - loss: 0.0013 - val_loss: 0.0013\n",
            "Epoch 7/100\n",
            "23/23 [==============================] - 8s 345ms/step - loss: 0.0012 - val_loss: 0.0014\n",
            "Epoch 8/100\n",
            "23/23 [==============================] - 8s 350ms/step - loss: 0.0012 - val_loss: 0.0010\n",
            "Epoch 9/100\n",
            "23/23 [==============================] - 8s 351ms/step - loss: 0.0010 - val_loss: 9.8052e-04\n",
            "Epoch 10/100\n",
            "23/23 [==============================] - 8s 349ms/step - loss: 0.0010 - val_loss: 7.8339e-04\n",
            "Epoch 11/100\n",
            "23/23 [==============================] - 8s 349ms/step - loss: 0.0011 - val_loss: 0.0011\n",
            "Epoch 12/100\n",
            "23/23 [==============================] - 8s 350ms/step - loss: 9.3436e-04 - val_loss: 8.8956e-04\n",
            "Epoch 13/100\n",
            "23/23 [==============================] - 8s 350ms/step - loss: 9.0089e-04 - val_loss: 6.8406e-04\n",
            "Epoch 14/100\n",
            "23/23 [==============================] - 8s 348ms/step - loss: 9.2469e-04 - val_loss: 8.7225e-04\n",
            "Epoch 15/100\n",
            "23/23 [==============================] - 8s 354ms/step - loss: 9.2162e-04 - val_loss: 7.7385e-04\n",
            "Epoch 16/100\n",
            "23/23 [==============================] - 8s 349ms/step - loss: 8.1247e-04 - val_loss: 6.7811e-04\n",
            "Epoch 17/100\n",
            "23/23 [==============================] - 8s 348ms/step - loss: 7.9856e-04 - val_loss: 7.3950e-04\n",
            "Epoch 18/100\n",
            "23/23 [==============================] - 8s 353ms/step - loss: 7.9863e-04 - val_loss: 5.1579e-04\n",
            "Epoch 19/100\n",
            "23/23 [==============================] - 8s 352ms/step - loss: 0.0011 - val_loss: 5.2239e-04\n",
            "Epoch 20/100\n",
            "23/23 [==============================] - 8s 351ms/step - loss: 8.4505e-04 - val_loss: 9.4838e-04\n",
            "Epoch 21/100\n",
            "23/23 [==============================] - 8s 357ms/step - loss: 8.6369e-04 - val_loss: 7.4775e-04\n",
            "Epoch 22/100\n",
            "23/23 [==============================] - 8s 348ms/step - loss: 7.9668e-04 - val_loss: 6.6414e-04\n",
            "Epoch 23/100\n",
            "23/23 [==============================] - 8s 350ms/step - loss: 7.0563e-04 - val_loss: 7.6120e-04\n",
            "Epoch 24/100\n",
            "23/23 [==============================] - 8s 354ms/step - loss: 7.0072e-04 - val_loss: 7.2813e-04\n",
            "Epoch 25/100\n",
            "23/23 [==============================] - 8s 350ms/step - loss: 6.5347e-04 - val_loss: 6.0558e-04\n",
            "Epoch 26/100\n",
            "23/23 [==============================] - 8s 356ms/step - loss: 7.2774e-04 - val_loss: 6.8455e-04\n",
            "Epoch 27/100\n",
            "23/23 [==============================] - 8s 351ms/step - loss: 6.5393e-04 - val_loss: 6.8115e-04\n",
            "Epoch 28/100\n",
            "23/23 [==============================] - 8s 349ms/step - loss: 6.3269e-04 - val_loss: 6.6476e-04\n",
            "Epoch 29/100\n",
            "23/23 [==============================] - 8s 350ms/step - loss: 7.9947e-04 - val_loss: 5.8945e-04\n",
            "Epoch 30/100\n",
            "23/23 [==============================] - 8s 344ms/step - loss: 6.3288e-04 - val_loss: 7.1385e-04\n",
            "Epoch 31/100\n",
            "23/23 [==============================] - 8s 348ms/step - loss: 6.4739e-04 - val_loss: 8.2962e-04\n",
            "Epoch 32/100\n",
            "23/23 [==============================] - 8s 350ms/step - loss: 6.1249e-04 - val_loss: 5.8950e-04\n",
            "Epoch 33/100\n",
            "23/23 [==============================] - 8s 358ms/step - loss: 5.9883e-04 - val_loss: 6.7635e-04\n",
            "Epoch 34/100\n",
            "23/23 [==============================] - 8s 349ms/step - loss: 5.9643e-04 - val_loss: 6.1056e-04\n",
            "Epoch 35/100\n",
            "23/23 [==============================] - 8s 348ms/step - loss: 5.5484e-04 - val_loss: 7.5193e-04\n",
            "Epoch 36/100\n",
            "23/23 [==============================] - 8s 356ms/step - loss: 5.3204e-04 - val_loss: 7.4610e-04\n",
            "Epoch 37/100\n",
            "23/23 [==============================] - 8s 354ms/step - loss: 5.1988e-04 - val_loss: 6.1160e-04\n",
            "Epoch 38/100\n",
            "23/23 [==============================] - 8s 356ms/step - loss: 5.4733e-04 - val_loss: 5.0400e-04\n",
            "Epoch 39/100\n",
            "23/23 [==============================] - 8s 357ms/step - loss: 5.9459e-04 - val_loss: 6.8843e-04\n",
            "Epoch 40/100\n",
            "23/23 [==============================] - 8s 357ms/step - loss: 5.3750e-04 - val_loss: 9.0412e-04\n",
            "Epoch 41/100\n",
            "23/23 [==============================] - 8s 364ms/step - loss: 5.3732e-04 - val_loss: 5.8142e-04\n",
            "Epoch 42/100\n",
            "23/23 [==============================] - 8s 351ms/step - loss: 4.9289e-04 - val_loss: 7.8352e-04\n",
            "Epoch 43/100\n",
            "23/23 [==============================] - 8s 351ms/step - loss: 4.7115e-04 - val_loss: 6.5838e-04\n",
            "Epoch 44/100\n",
            "23/23 [==============================] - 8s 348ms/step - loss: 4.8881e-04 - val_loss: 5.3199e-04\n",
            "Epoch 45/100\n",
            "23/23 [==============================] - 8s 351ms/step - loss: 4.6832e-04 - val_loss: 5.1999e-04\n",
            "Epoch 46/100\n",
            "23/23 [==============================] - 8s 348ms/step - loss: 4.5055e-04 - val_loss: 5.7072e-04\n",
            "Epoch 47/100\n",
            "23/23 [==============================] - 8s 348ms/step - loss: 4.7676e-04 - val_loss: 5.5351e-04\n",
            "Epoch 48/100\n",
            "23/23 [==============================] - 8s 355ms/step - loss: 5.1136e-04 - val_loss: 5.2202e-04\n",
            "Epoch 49/100\n",
            "23/23 [==============================] - 8s 352ms/step - loss: 4.8896e-04 - val_loss: 6.0888e-04\n",
            "Epoch 50/100\n",
            "23/23 [==============================] - 8s 356ms/step - loss: 3.9771e-04 - val_loss: 5.6607e-04\n",
            "Epoch 51/100\n",
            "23/23 [==============================] - 8s 348ms/step - loss: 4.4985e-04 - val_loss: 4.9573e-04\n",
            "Epoch 52/100\n",
            "23/23 [==============================] - 8s 347ms/step - loss: 4.1610e-04 - val_loss: 5.1442e-04\n",
            "Epoch 53/100\n",
            "23/23 [==============================] - 8s 352ms/step - loss: 4.2593e-04 - val_loss: 3.5581e-04\n",
            "Epoch 54/100\n",
            "23/23 [==============================] - 8s 352ms/step - loss: 3.7376e-04 - val_loss: 2.9613e-04\n",
            "Epoch 55/100\n",
            "23/23 [==============================] - 8s 350ms/step - loss: 4.4229e-04 - val_loss: 3.2937e-04\n",
            "Epoch 56/100\n",
            "23/23 [==============================] - 8s 357ms/step - loss: 3.6924e-04 - val_loss: 3.3741e-04\n",
            "Epoch 57/100\n",
            "23/23 [==============================] - 8s 356ms/step - loss: 3.8502e-04 - val_loss: 3.3058e-04\n",
            "Epoch 58/100\n",
            "23/23 [==============================] - 8s 350ms/step - loss: 3.6923e-04 - val_loss: 3.5776e-04\n",
            "Epoch 59/100\n",
            "23/23 [==============================] - 8s 354ms/step - loss: 3.4703e-04 - val_loss: 2.9131e-04\n",
            "Epoch 60/100\n",
            "23/23 [==============================] - 8s 350ms/step - loss: 3.4835e-04 - val_loss: 2.4013e-04\n",
            "Epoch 61/100\n",
            "23/23 [==============================] - 8s 351ms/step - loss: 3.2664e-04 - val_loss: 3.6365e-04\n",
            "Epoch 62/100\n",
            "23/23 [==============================] - 8s 350ms/step - loss: 3.0460e-04 - val_loss: 2.7775e-04\n",
            "Epoch 63/100\n",
            "23/23 [==============================] - 8s 350ms/step - loss: 3.0690e-04 - val_loss: 2.6235e-04\n",
            "Epoch 64/100\n",
            "23/23 [==============================] - 8s 353ms/step - loss: 2.8755e-04 - val_loss: 3.3578e-04\n",
            "Epoch 65/100\n",
            "23/23 [==============================] - 8s 351ms/step - loss: 3.1636e-04 - val_loss: 2.2003e-04\n",
            "Epoch 66/100\n",
            "23/23 [==============================] - 8s 349ms/step - loss: 2.8119e-04 - val_loss: 2.1947e-04\n",
            "Epoch 67/100\n",
            "23/23 [==============================] - 8s 350ms/step - loss: 2.8911e-04 - val_loss: 2.2926e-04\n",
            "Epoch 68/100\n",
            "23/23 [==============================] - 8s 352ms/step - loss: 2.7238e-04 - val_loss: 2.8407e-04\n",
            "Epoch 69/100\n",
            "23/23 [==============================] - 8s 353ms/step - loss: 3.0668e-04 - val_loss: 2.7591e-04\n",
            "Epoch 70/100\n",
            "23/23 [==============================] - 8s 354ms/step - loss: 2.8414e-04 - val_loss: 2.4922e-04\n",
            "Epoch 71/100\n",
            "23/23 [==============================] - 8s 359ms/step - loss: 2.4294e-04 - val_loss: 2.4213e-04\n",
            "Epoch 72/100\n",
            "23/23 [==============================] - 8s 355ms/step - loss: 2.5174e-04 - val_loss: 3.3231e-04\n",
            "Epoch 73/100\n",
            "23/23 [==============================] - 8s 349ms/step - loss: 2.6216e-04 - val_loss: 2.0907e-04\n",
            "Epoch 74/100\n",
            "23/23 [==============================] - 8s 351ms/step - loss: 2.3589e-04 - val_loss: 2.0575e-04\n",
            "Epoch 75/100\n",
            "23/23 [==============================] - 8s 350ms/step - loss: 2.3321e-04 - val_loss: 2.0536e-04\n",
            "Epoch 76/100\n",
            "23/23 [==============================] - 8s 350ms/step - loss: 2.4035e-04 - val_loss: 2.0689e-04\n",
            "Epoch 77/100\n",
            "23/23 [==============================] - 8s 348ms/step - loss: 2.2751e-04 - val_loss: 2.3440e-04\n",
            "Epoch 78/100\n",
            "23/23 [==============================] - 8s 347ms/step - loss: 2.2391e-04 - val_loss: 1.8161e-04\n",
            "Epoch 79/100\n",
            "23/23 [==============================] - 8s 352ms/step - loss: 2.2779e-04 - val_loss: 1.8175e-04\n",
            "Epoch 80/100\n",
            "23/23 [==============================] - 8s 346ms/step - loss: 2.4388e-04 - val_loss: 2.9030e-04\n",
            "Epoch 81/100\n",
            "23/23 [==============================] - 8s 348ms/step - loss: 2.6277e-04 - val_loss: 2.1749e-04\n",
            "Epoch 82/100\n",
            "23/23 [==============================] - 8s 347ms/step - loss: 2.6360e-04 - val_loss: 2.3966e-04\n",
            "Epoch 83/100\n",
            "23/23 [==============================] - 8s 348ms/step - loss: 2.6708e-04 - val_loss: 1.6281e-04\n",
            "Epoch 84/100\n",
            "23/23 [==============================] - 8s 358ms/step - loss: 2.5829e-04 - val_loss: 1.5250e-04\n",
            "Epoch 85/100\n",
            "23/23 [==============================] - 8s 347ms/step - loss: 2.1478e-04 - val_loss: 1.8018e-04\n",
            "Epoch 86/100\n",
            "23/23 [==============================] - 8s 347ms/step - loss: 2.1372e-04 - val_loss: 1.6658e-04\n",
            "Epoch 87/100\n",
            "23/23 [==============================] - 8s 345ms/step - loss: 2.0223e-04 - val_loss: 2.2060e-04\n",
            "Epoch 88/100\n",
            "23/23 [==============================] - 8s 350ms/step - loss: 2.0385e-04 - val_loss: 1.8118e-04\n",
            "Epoch 89/100\n",
            "23/23 [==============================] - 8s 346ms/step - loss: 2.5883e-04 - val_loss: 2.0311e-04\n",
            "Epoch 90/100\n",
            "23/23 [==============================] - 8s 346ms/step - loss: 2.2094e-04 - val_loss: 1.5017e-04\n",
            "Epoch 91/100\n",
            "23/23 [==============================] - 8s 349ms/step - loss: 2.0497e-04 - val_loss: 1.7624e-04\n",
            "Epoch 92/100\n",
            "23/23 [==============================] - 8s 354ms/step - loss: 2.3834e-04 - val_loss: 1.6932e-04\n",
            "Epoch 93/100\n",
            "23/23 [==============================] - 8s 347ms/step - loss: 2.0608e-04 - val_loss: 1.4993e-04\n",
            "Epoch 94/100\n",
            "23/23 [==============================] - 8s 345ms/step - loss: 2.0519e-04 - val_loss: 1.8642e-04\n",
            "Epoch 95/100\n",
            "23/23 [==============================] - 8s 351ms/step - loss: 2.2726e-04 - val_loss: 1.4944e-04\n",
            "Epoch 96/100\n",
            "23/23 [==============================] - 8s 350ms/step - loss: 2.5134e-04 - val_loss: 2.0242e-04\n",
            "Epoch 97/100\n",
            "23/23 [==============================] - 8s 353ms/step - loss: 2.6123e-04 - val_loss: 1.5278e-04\n",
            "Epoch 98/100\n",
            "23/23 [==============================] - 8s 349ms/step - loss: 2.3373e-04 - val_loss: 1.4268e-04\n",
            "Epoch 99/100\n",
            "23/23 [==============================] - 8s 346ms/step - loss: 2.5637e-04 - val_loss: 2.0978e-04\n",
            "Epoch 100/100\n",
            "23/23 [==============================] - 8s 351ms/step - loss: 3.1725e-04 - val_loss: 1.4267e-04\n"
          ]
        },
        {
          "output_type": "execute_result",
          "data": {
            "text/plain": [
              "<tensorflow.python.keras.callbacks.History at 0x7f03a64b6a50>"
            ]
          },
          "metadata": {},
          "execution_count": 22
        }
      ]
    },
    {
      "cell_type": "code",
      "metadata": {
        "id": "5FjpCCHmc_aw"
      },
      "source": [
        "\n",
        "#Lets predict and check performance metrics\n",
        "train_predict = model.predict(x_train)\n",
        "test_predict = model.predict(x_test)"
      ],
      "execution_count": null,
      "outputs": []
    },
    {
      "cell_type": "code",
      "metadata": {
        "id": "7EgYnoMpdARi"
      },
      "source": [
        "\n",
        "#Transform back to original form\n",
        "train_predict = scaler.inverse_transform(train_predict)\n",
        "test_predict = scaler.inverse_transform(test_predict)"
      ],
      "execution_count": null,
      "outputs": []
    },
    {
      "cell_type": "code",
      "metadata": {
        "colab": {
          "base_uri": "https://localhost:8080/"
        },
        "id": "EY-4k9JgdDll",
        "outputId": "37c36a1c-1594-4bc4-d0e2-e82d4e6bcfff"
      },
      "source": [
        "#Calculate RMSE performance metrics\n",
        "math.sqrt(mean_squared_error(y_train, train_predict))"
      ],
      "execution_count": null,
      "outputs": [
        {
          "output_type": "execute_result",
          "data": {
            "text/plain": [
              "163.20037666160482"
            ]
          },
          "metadata": {},
          "execution_count": 25
        }
      ]
    },
    {
      "cell_type": "code",
      "metadata": {
        "colab": {
          "base_uri": "https://localhost:8080/"
        },
        "id": "KP7edn7WdF9y",
        "outputId": "1280fd77-9697-4e9f-f775-5999a2eabdf5"
      },
      "source": [
        "#Test Data RMSE\n",
        "math.sqrt(mean_squared_error(y_test, test_predict))"
      ],
      "execution_count": null,
      "outputs": [
        {
          "output_type": "execute_result",
          "data": {
            "text/plain": [
              "104.91086341537043"
            ]
          },
          "metadata": {},
          "execution_count": 26
        }
      ]
    },
    {
      "cell_type": "code",
      "metadata": {
        "colab": {
          "base_uri": "https://localhost:8080/",
          "height": 265
        },
        "id": "p5CpiRdAdHC2",
        "outputId": "5c0ef6dd-d042-4fdd-b25b-7dbb3fcec890"
      },
      "source": [
        "#Plotting\n",
        "\n",
        "#Shift train prediction for plotting\n",
        "look_back = 100\n",
        "trainPredictPlot = np.empty_like(df_close)\n",
        "trainPredictPlot[:,:] = np.nan\n",
        "trainPredictPlot[look_back:len(train_predict) + look_back, :] = train_predict\n",
        "\n",
        "#Shift test prediction for plotting\n",
        "testPredictPlot = np.empty_like(df_close)\n",
        "testPredictPlot[:,:] = np.nan\n",
        "testPredictPlot[len(train_predict) + (look_back * 2)+1:len(df_close) - 1, :] = test_predict\n",
        "\n",
        "#Plot baseline and predictions\n",
        "plt.plot(scaler.inverse_transform(df_close))\n",
        "plt.plot(trainPredictPlot)\n",
        "plt.plot(testPredictPlot)\n",
        "plt.show()\n"
      ],
      "execution_count": null,
      "outputs": [
        {
          "output_type": "display_data",
          "data": {
            "image/png": "[encoded data removed]",
            "text/plain": [
              "<Figure size 432x288 with 1 Axes>"
            ]
          },
          "metadata": {
            "needs_background": "light"
          }
        }
      ]
    },
    {
      "cell_type": "markdown",
      "metadata": {
        "id": "3aO57HUidNLb"
      },
      "source": [
        "Predicting the next 30 Days Stock Price"
      ]
    },
    {
      "cell_type": "code",
      "metadata": {
        "colab": {
          "base_uri": "https://localhost:8080/"
        },
        "id": "vCR2GIWqdL6M",
        "outputId": "82fb00cc-ea72-4c43-e754-2060add40ac3"
      },
      "source": [
        "len(test_data), x_test.shape"
      ],
      "execution_count": null,
      "outputs": [
        {
          "output_type": "execute_result",
          "data": {
            "text/plain": [
              "(509, (408, 100, 1))"
            ]
          },
          "metadata": {},
          "execution_count": 28
        }
      ]
    },
    {
      "cell_type": "code",
      "metadata": {
        "colab": {
          "base_uri": "https://localhost:8080/"
        },
        "id": "I6TQ34Irdcnq",
        "outputId": "8410b922-1593-4702-b3ad-24d53044735c"
      },
      "source": [
        "x_input = test_data[409:].reshape(1,-1)\n",
        "x_input.shape"
      ],
      "execution_count": null,
      "outputs": [
        {
          "output_type": "execute_result",
          "data": {
            "text/plain": [
              "(1, 100)"
            ]
          },
          "metadata": {},
          "execution_count": 44
        }
      ]
    },
    {
      "cell_type": "code",
      "metadata": {
        "id": "EPsf6O7YeYsR"
      },
      "source": [
        "temp_input = list(x_input)\n",
        "temp_input = temp_input[0].tolist()"
      ],
      "execution_count": null,
      "outputs": []
    },
    {
      "cell_type": "code",
      "metadata": {
        "colab": {
          "base_uri": "https://localhost:8080/"
        },
        "id": "Dn5ANxT8ebQ-",
        "outputId": "5214b9ff-7533-48fd-f70b-8a81f05de1c9"
      },
      "source": [
        "lst_output=[]\n",
        "n_steps=100\n",
        "nextNumberOfDays = 30\n",
        "i=0\n",
        "\n",
        "while(i<nextNumberOfDays):\n",
        "    \n",
        "    if(len(temp_input)>100):\n",
        "        x_input=np.array(temp_input[1:])\n",
        "        print(\"{} day input {}\".format(i,x_input))\n",
        "        x_input=x_input.reshape(1,-1)\n",
        "        x_input = x_input.reshape((1, n_steps, 1))\n",
        "        yhat = model.predict(x_input, verbose=0)\n",
        "        print(\"{} day output {}\".format(i,yhat))\n",
        "        temp_input.extend(yhat[0].tolist())\n",
        "        temp_input=temp_input[1:]\n",
        "        lst_output.extend(yhat.tolist())\n",
        "        i=i+1\n",
        "    else:\n",
        "        x_input = x_input.reshape((1, n_steps,1))\n",
        "        yhat = model.predict(x_input, verbose=0)\n",
        "        print(yhat[0])\n",
        "        temp_input.extend(yhat[0].tolist())\n",
        "        print(len(temp_input))\n",
        "        lst_output.extend(yhat.tolist())\n",
        "        i=i+1\n",
        "    \n",
        "\n",
        "print(lst_output)"
      ],
      "execution_count": null,
      "outputs": [
        {
          "output_type": "stream",
          "name": "stdout",
          "text": [
            "[0.16356829]\n",
            "101\n",
            "1 day input [0.13848039 0.14011438 0.13888889 0.13541667 0.14011438 0.1380719\n",
            " 0.13071895 0.13071895 0.12867647 0.11846405 0.14644608 0.14808007\n",
            " 0.15910948 0.15992647 0.15788399 0.16441993 0.17892157 0.17933007\n",
            " 0.19260621 0.20812908 0.18974673 0.18055556 0.18239379 0.17708333\n",
            " 0.17810458 0.18055556 0.17810458 0.17851307 0.19607843 0.18913399\n",
            " 0.18954248 0.19403595 0.19444444 0.20200163 0.19771242 0.19934641\n",
            " 0.19873366 0.1997549  0.2128268  0.21568627 0.20445261 0.21772876\n",
            " 0.21098856 0.21425654 0.19750817 0.18811275 0.17851307 0.17381536\n",
            " 0.16033497 0.16564542 0.17116013 0.17422386 0.18035131 0.17401961\n",
            " 0.16278595 0.16973039 0.17810458 0.17034314 0.16830065 0.17279412\n",
            " 0.17544935 0.18382353 0.19138072 0.18913399 0.19097222 0.17238562\n",
            " 0.16830065 0.1693219  0.17177288 0.16156046 0.14971405 0.1503268\n",
            " 0.15196078 0.14726307 0.14501634 0.14603758 0.12479575 0.13112745\n",
            " 0.11397059 0.1190768  0.12377451 0.13562092 0.12908497 0.13459967\n",
            " 0.12806373 0.13031046 0.12724673 0.13521242 0.14522059 0.15257353\n",
            " 0.14848856 0.14338235 0.14562908 0.15236928 0.15400327 0.14971405\n",
            " 0.1621732  0.16319444 0.16584967 0.16356829]\n",
            "1 day output [[0.1640841]]\n",
            "2 day input [0.14011438 0.13888889 0.13541667 0.14011438 0.1380719  0.13071895\n",
            " 0.13071895 0.12867647 0.11846405 0.14644608 0.14808007 0.15910948\n",
            " 0.15992647 0.15788399 0.16441993 0.17892157 0.17933007 0.19260621\n",
            " 0.20812908 0.18974673 0.18055556 0.18239379 0.17708333 0.17810458\n",
            " 0.18055556 0.17810458 0.17851307 0.19607843 0.18913399 0.18954248\n",
            " 0.19403595 0.19444444 0.20200163 0.19771242 0.19934641 0.19873366\n",
            " 0.1997549  0.2128268  0.21568627 0.20445261 0.21772876 0.21098856\n",
            " 0.21425654 0.19750817 0.18811275 0.17851307 0.17381536 0.16033497\n",
            " 0.16564542 0.17116013 0.17422386 0.18035131 0.17401961 0.16278595\n",
            " 0.16973039 0.17810458 0.17034314 0.16830065 0.17279412 0.17544935\n",
            " 0.18382353 0.19138072 0.18913399 0.19097222 0.17238562 0.16830065\n",
            " 0.1693219  0.17177288 0.16156046 0.14971405 0.1503268  0.15196078\n",
            " 0.14726307 0.14501634 0.14603758 0.12479575 0.13112745 0.11397059\n",
            " 0.1190768  0.12377451 0.13562092 0.12908497 0.13459967 0.12806373\n",
            " 0.13031046 0.12724673 0.13521242 0.14522059 0.15257353 0.14848856\n",
            " 0.14338235 0.14562908 0.15236928 0.15400327 0.14971405 0.1621732\n",
            " 0.16319444 0.16584967 0.16356829 0.16408411]\n",
            "2 day output [[0.16347325]]\n",
            "3 day input [0.13888889 0.13541667 0.14011438 0.1380719  0.13071895 0.13071895\n",
            " 0.12867647 0.11846405 0.14644608 0.14808007 0.15910948 0.15992647\n",
            " 0.15788399 0.16441993 0.17892157 0.17933007 0.19260621 0.20812908\n",
            " 0.18974673 0.18055556 0.18239379 0.17708333 0.17810458 0.18055556\n",
            " 0.17810458 0.17851307 0.19607843 0.18913399 0.18954248 0.19403595\n",
            " 0.19444444 0.20200163 0.19771242 0.19934641 0.19873366 0.1997549\n",
            " 0.2128268  0.21568627 0.20445261 0.21772876 0.21098856 0.21425654\n",
            " 0.19750817 0.18811275 0.17851307 0.17381536 0.16033497 0.16564542\n",
            " 0.17116013 0.17422386 0.18035131 0.17401961 0.16278595 0.16973039\n",
            " 0.17810458 0.17034314 0.16830065 0.17279412 0.17544935 0.18382353\n",
            " 0.19138072 0.18913399 0.19097222 0.17238562 0.16830065 0.1693219\n",
            " 0.17177288 0.16156046 0.14971405 0.1503268  0.15196078 0.14726307\n",
            " 0.14501634 0.14603758 0.12479575 0.13112745 0.11397059 0.1190768\n",
            " 0.12377451 0.13562092 0.12908497 0.13459967 0.12806373 0.13031046\n",
            " 0.12724673 0.13521242 0.14522059 0.15257353 0.14848856 0.14338235\n",
            " 0.14562908 0.15236928 0.15400327 0.14971405 0.1621732  0.16319444\n",
            " 0.16584967 0.16356829 0.16408411 0.16347325]\n",
            "3 day output [[0.16256455]]\n",
            "4 day input [0.13541667 0.14011438 0.1380719  0.13071895 0.13071895 0.12867647\n",
            " 0.11846405 0.14644608 0.14808007 0.15910948 0.15992647 0.15788399\n",
            " 0.16441993 0.17892157 0.17933007 0.19260621 0.20812908 0.18974673\n",
            " 0.18055556 0.18239379 0.17708333 0.17810458 0.18055556 0.17810458\n",
            " 0.17851307 0.19607843 0.18913399 0.18954248 0.19403595 0.19444444\n",
            " 0.20200163 0.19771242 0.19934641 0.19873366 0.1997549  0.2128268\n",
            " 0.21568627 0.20445261 0.21772876 0.21098856 0.21425654 0.19750817\n",
            " 0.18811275 0.17851307 0.17381536 0.16033497 0.16564542 0.17116013\n",
            " 0.17422386 0.18035131 0.17401961 0.16278595 0.16973039 0.17810458\n",
            " 0.17034314 0.16830065 0.17279412 0.17544935 0.18382353 0.19138072\n",
            " 0.18913399 0.19097222 0.17238562 0.16830065 0.1693219  0.17177288\n",
            " 0.16156046 0.14971405 0.1503268  0.15196078 0.14726307 0.14501634\n",
            " 0.14603758 0.12479575 0.13112745 0.11397059 0.1190768  0.12377451\n",
            " 0.13562092 0.12908497 0.13459967 0.12806373 0.13031046 0.12724673\n",
            " 0.13521242 0.14522059 0.15257353 0.14848856 0.14338235 0.14562908\n",
            " 0.15236928 0.15400327 0.14971405 0.1621732  0.16319444 0.16584967\n",
            " 0.16356829 0.16408411 0.16347325 0.16256455]\n",
            "4 day output [[0.16159397]]\n",
            "5 day input [0.14011438 0.1380719  0.13071895 0.13071895 0.12867647 0.11846405\n",
            " 0.14644608 0.14808007 0.15910948 0.15992647 0.15788399 0.16441993\n",
            " 0.17892157 0.17933007 0.19260621 0.20812908 0.18974673 0.18055556\n",
            " 0.18239379 0.17708333 0.17810458 0.18055556 0.17810458 0.17851307\n",
            " 0.19607843 0.18913399 0.18954248 0.19403595 0.19444444 0.20200163\n",
            " 0.19771242 0.19934641 0.19873366 0.1997549  0.2128268  0.21568627\n",
            " 0.20445261 0.21772876 0.21098856 0.21425654 0.19750817 0.18811275\n",
            " 0.17851307 0.17381536 0.16033497 0.16564542 0.17116013 0.17422386\n",
            " 0.18035131 0.17401961 0.16278595 0.16973039 0.17810458 0.17034314\n",
            " 0.16830065 0.17279412 0.17544935 0.18382353 0.19138072 0.18913399\n",
            " 0.19097222 0.17238562 0.16830065 0.1693219  0.17177288 0.16156046\n",
            " 0.14971405 0.1503268  0.15196078 0.14726307 0.14501634 0.14603758\n",
            " 0.12479575 0.13112745 0.11397059 0.1190768  0.12377451 0.13562092\n",
            " 0.12908497 0.13459967 0.12806373 0.13031046 0.12724673 0.13521242\n",
            " 0.14522059 0.15257353 0.14848856 0.14338235 0.14562908 0.15236928\n",
            " 0.15400327 0.14971405 0.1621732  0.16319444 0.16584967 0.16356829\n",
            " 0.16408411 0.16347325 0.16256455 0.16159397]\n",
            "5 day output [[0.16065377]]\n",
            "6 day input [0.1380719  0.13071895 0.13071895 0.12867647 0.11846405 0.14644608\n",
            " 0.14808007 0.15910948 0.15992647 0.15788399 0.16441993 0.17892157\n",
            " 0.17933007 0.19260621 0.20812908 0.18974673 0.18055556 0.18239379\n",
            " 0.17708333 0.17810458 0.18055556 0.17810458 0.17851307 0.19607843\n",
            " 0.18913399 0.18954248 0.19403595 0.19444444 0.20200163 0.19771242\n",
            " 0.19934641 0.19873366 0.1997549  0.2128268  0.21568627 0.20445261\n",
            " 0.21772876 0.21098856 0.21425654 0.19750817 0.18811275 0.17851307\n",
            " 0.17381536 0.16033497 0.16564542 0.17116013 0.17422386 0.18035131\n",
            " 0.17401961 0.16278595 0.16973039 0.17810458 0.17034314 0.16830065\n",
            " 0.17279412 0.17544935 0.18382353 0.19138072 0.18913399 0.19097222\n",
            " 0.17238562 0.16830065 0.1693219  0.17177288 0.16156046 0.14971405\n",
            " 0.1503268  0.15196078 0.14726307 0.14501634 0.14603758 0.12479575\n",
            " 0.13112745 0.11397059 0.1190768  0.12377451 0.13562092 0.12908497\n",
            " 0.13459967 0.12806373 0.13031046 0.12724673 0.13521242 0.14522059\n",
            " 0.15257353 0.14848856 0.14338235 0.14562908 0.15236928 0.15400327\n",
            " 0.14971405 0.1621732  0.16319444 0.16584967 0.16356829 0.16408411\n",
            " 0.16347325 0.16256455 0.16159397 0.16065377]\n",
            "6 day output [[0.15979779]]\n",
            "7 day input [0.13071895 0.13071895 0.12867647 0.11846405 0.14644608 0.14808007\n",
            " 0.15910948 0.15992647 0.15788399 0.16441993 0.17892157 0.17933007\n",
            " 0.19260621 0.20812908 0.18974673 0.18055556 0.18239379 0.17708333\n",
            " 0.17810458 0.18055556 0.17810458 0.17851307 0.19607843 0.18913399\n",
            " 0.18954248 0.19403595 0.19444444 0.20200163 0.19771242 0.19934641\n",
            " 0.19873366 0.1997549  0.2128268  0.21568627 0.20445261 0.21772876\n",
            " 0.21098856 0.21425654 0.19750817 0.18811275 0.17851307 0.17381536\n",
            " 0.16033497 0.16564542 0.17116013 0.17422386 0.18035131 0.17401961\n",
            " 0.16278595 0.16973039 0.17810458 0.17034314 0.16830065 0.17279412\n",
            " 0.17544935 0.18382353 0.19138072 0.18913399 0.19097222 0.17238562\n",
            " 0.16830065 0.1693219  0.17177288 0.16156046 0.14971405 0.1503268\n",
            " 0.15196078 0.14726307 0.14501634 0.14603758 0.12479575 0.13112745\n",
            " 0.11397059 0.1190768  0.12377451 0.13562092 0.12908497 0.13459967\n",
            " 0.12806373 0.13031046 0.12724673 0.13521242 0.14522059 0.15257353\n",
            " 0.14848856 0.14338235 0.14562908 0.15236928 0.15400327 0.14971405\n",
            " 0.1621732  0.16319444 0.16584967 0.16356829 0.16408411 0.16347325\n",
            " 0.16256455 0.16159397 0.16065377 0.15979779]\n",
            "7 day output [[0.15905298]]\n",
            "8 day input [0.13071895 0.12867647 0.11846405 0.14644608 0.14808007 0.15910948\n",
            " 0.15992647 0.15788399 0.16441993 0.17892157 0.17933007 0.19260621\n",
            " 0.20812908 0.18974673 0.18055556 0.18239379 0.17708333 0.17810458\n",
            " 0.18055556 0.17810458 0.17851307 0.19607843 0.18913399 0.18954248\n",
            " 0.19403595 0.19444444 0.20200163 0.19771242 0.19934641 0.19873366\n",
            " 0.1997549  0.2128268  0.21568627 0.20445261 0.21772876 0.21098856\n",
            " 0.21425654 0.19750817 0.18811275 0.17851307 0.17381536 0.16033497\n",
            " 0.16564542 0.17116013 0.17422386 0.18035131 0.17401961 0.16278595\n",
            " 0.16973039 0.17810458 0.17034314 0.16830065 0.17279412 0.17544935\n",
            " 0.18382353 0.19138072 0.18913399 0.19097222 0.17238562 0.16830065\n",
            " 0.1693219  0.17177288 0.16156046 0.14971405 0.1503268  0.15196078\n",
            " 0.14726307 0.14501634 0.14603758 0.12479575 0.13112745 0.11397059\n",
            " 0.1190768  0.12377451 0.13562092 0.12908497 0.13459967 0.12806373\n",
            " 0.13031046 0.12724673 0.13521242 0.14522059 0.15257353 0.14848856\n",
            " 0.14338235 0.14562908 0.15236928 0.15400327 0.14971405 0.1621732\n",
            " 0.16319444 0.16584967 0.16356829 0.16408411 0.16347325 0.16256455\n",
            " 0.16159397 0.16065377 0.15979779 0.15905298]\n",
            "8 day output [[0.15842418]]\n",
            "9 day input [0.12867647 0.11846405 0.14644608 0.14808007 0.15910948 0.15992647\n",
            " 0.15788399 0.16441993 0.17892157 0.17933007 0.19260621 0.20812908\n",
            " 0.18974673 0.18055556 0.18239379 0.17708333 0.17810458 0.18055556\n",
            " 0.17810458 0.17851307 0.19607843 0.18913399 0.18954248 0.19403595\n",
            " 0.19444444 0.20200163 0.19771242 0.19934641 0.19873366 0.1997549\n",
            " 0.2128268  0.21568627 0.20445261 0.21772876 0.21098856 0.21425654\n",
            " 0.19750817 0.18811275 0.17851307 0.17381536 0.16033497 0.16564542\n",
            " 0.17116013 0.17422386 0.18035131 0.17401961 0.16278595 0.16973039\n",
            " 0.17810458 0.17034314 0.16830065 0.17279412 0.17544935 0.18382353\n",
            " 0.19138072 0.18913399 0.19097222 0.17238562 0.16830065 0.1693219\n",
            " 0.17177288 0.16156046 0.14971405 0.1503268  0.15196078 0.14726307\n",
            " 0.14501634 0.14603758 0.12479575 0.13112745 0.11397059 0.1190768\n",
            " 0.12377451 0.13562092 0.12908497 0.13459967 0.12806373 0.13031046\n",
            " 0.12724673 0.13521242 0.14522059 0.15257353 0.14848856 0.14338235\n",
            " 0.14562908 0.15236928 0.15400327 0.14971405 0.1621732  0.16319444\n",
            " 0.16584967 0.16356829 0.16408411 0.16347325 0.16256455 0.16159397\n",
            " 0.16065377 0.15979779 0.15905298 0.15842418]\n",
            "9 day output [[0.15790114]]\n",
            "10 day input [0.11846405 0.14644608 0.14808007 0.15910948 0.15992647 0.15788399\n",
            " 0.16441993 0.17892157 0.17933007 0.19260621 0.20812908 0.18974673\n",
            " 0.18055556 0.18239379 0.17708333 0.17810458 0.18055556 0.17810458\n",
            " 0.17851307 0.19607843 0.18913399 0.18954248 0.19403595 0.19444444\n",
            " 0.20200163 0.19771242 0.19934641 0.19873366 0.1997549  0.2128268\n",
            " 0.21568627 0.20445261 0.21772876 0.21098856 0.21425654 0.19750817\n",
            " 0.18811275 0.17851307 0.17381536 0.16033497 0.16564542 0.17116013\n",
            " 0.17422386 0.18035131 0.17401961 0.16278595 0.16973039 0.17810458\n",
            " 0.17034314 0.16830065 0.17279412 0.17544935 0.18382353 0.19138072\n",
            " 0.18913399 0.19097222 0.17238562 0.16830065 0.1693219  0.17177288\n",
            " 0.16156046 0.14971405 0.1503268  0.15196078 0.14726307 0.14501634\n",
            " 0.14603758 0.12479575 0.13112745 0.11397059 0.1190768  0.12377451\n",
            " 0.13562092 0.12908497 0.13459967 0.12806373 0.13031046 0.12724673\n",
            " 0.13521242 0.14522059 0.15257353 0.14848856 0.14338235 0.14562908\n",
            " 0.15236928 0.15400327 0.14971405 0.1621732  0.16319444 0.16584967\n",
            " 0.16356829 0.16408411 0.16347325 0.16256455 0.16159397 0.16065377\n",
            " 0.15979779 0.15905298 0.15842418 0.15790114]\n",
            "10 day output [[0.15746579]]\n",
            "11 day input [0.14644608 0.14808007 0.15910948 0.15992647 0.15788399 0.16441993\n",
            " 0.17892157 0.17933007 0.19260621 0.20812908 0.18974673 0.18055556\n",
            " 0.18239379 0.17708333 0.17810458 0.18055556 0.17810458 0.17851307\n",
            " 0.19607843 0.18913399 0.18954248 0.19403595 0.19444444 0.20200163\n",
            " 0.19771242 0.19934641 0.19873366 0.1997549  0.2128268  0.21568627\n",
            " 0.20445261 0.21772876 0.21098856 0.21425654 0.19750817 0.18811275\n",
            " 0.17851307 0.17381536 0.16033497 0.16564542 0.17116013 0.17422386\n",
            " 0.18035131 0.17401961 0.16278595 0.16973039 0.17810458 0.17034314\n",
            " 0.16830065 0.17279412 0.17544935 0.18382353 0.19138072 0.18913399\n",
            " 0.19097222 0.17238562 0.16830065 0.1693219  0.17177288 0.16156046\n",
            " 0.14971405 0.1503268  0.15196078 0.14726307 0.14501634 0.14603758\n",
            " 0.12479575 0.13112745 0.11397059 0.1190768  0.12377451 0.13562092\n",
            " 0.12908497 0.13459967 0.12806373 0.13031046 0.12724673 0.13521242\n",
            " 0.14522059 0.15257353 0.14848856 0.14338235 0.14562908 0.15236928\n",
            " 0.15400327 0.14971405 0.1621732  0.16319444 0.16584967 0.16356829\n",
            " 0.16408411 0.16347325 0.16256455 0.16159397 0.16065377 0.15979779\n",
            " 0.15905298 0.15842418 0.15790114 0.15746579]\n",
            "11 day output [[0.15709756]]\n",
            "12 day input [0.14808007 0.15910948 0.15992647 0.15788399 0.16441993 0.17892157\n",
            " 0.17933007 0.19260621 0.20812908 0.18974673 0.18055556 0.18239379\n",
            " 0.17708333 0.17810458 0.18055556 0.17810458 0.17851307 0.19607843\n",
            " 0.18913399 0.18954248 0.19403595 0.19444444 0.20200163 0.19771242\n",
            " 0.19934641 0.19873366 0.1997549  0.2128268  0.21568627 0.20445261\n",
            " 0.21772876 0.21098856 0.21425654 0.19750817 0.18811275 0.17851307\n",
            " 0.17381536 0.16033497 0.16564542 0.17116013 0.17422386 0.18035131\n",
            " 0.17401961 0.16278595 0.16973039 0.17810458 0.17034314 0.16830065\n",
            " 0.17279412 0.17544935 0.18382353 0.19138072 0.18913399 0.19097222\n",
            " 0.17238562 0.16830065 0.1693219  0.17177288 0.16156046 0.14971405\n",
            " 0.1503268  0.15196078 0.14726307 0.14501634 0.14603758 0.12479575\n",
            " 0.13112745 0.11397059 0.1190768  0.12377451 0.13562092 0.12908497\n",
            " 0.13459967 0.12806373 0.13031046 0.12724673 0.13521242 0.14522059\n",
            " 0.15257353 0.14848856 0.14338235 0.14562908 0.15236928 0.15400327\n",
            " 0.14971405 0.1621732  0.16319444 0.16584967 0.16356829 0.16408411\n",
            " 0.16347325 0.16256455 0.16159397 0.16065377 0.15979779 0.15905298\n",
            " 0.15842418 0.15790114 0.15746579 0.15709756]\n",
            "12 day output [[0.15677717]]\n",
            "13 day input [0.15910948 0.15992647 0.15788399 0.16441993 0.17892157 0.17933007\n",
            " 0.19260621 0.20812908 0.18974673 0.18055556 0.18239379 0.17708333\n",
            " 0.17810458 0.18055556 0.17810458 0.17851307 0.19607843 0.18913399\n",
            " 0.18954248 0.19403595 0.19444444 0.20200163 0.19771242 0.19934641\n",
            " 0.19873366 0.1997549  0.2128268  0.21568627 0.20445261 0.21772876\n",
            " 0.21098856 0.21425654 0.19750817 0.18811275 0.17851307 0.17381536\n",
            " 0.16033497 0.16564542 0.17116013 0.17422386 0.18035131 0.17401961\n",
            " 0.16278595 0.16973039 0.17810458 0.17034314 0.16830065 0.17279412\n",
            " 0.17544935 0.18382353 0.19138072 0.18913399 0.19097222 0.17238562\n",
            " 0.16830065 0.1693219  0.17177288 0.16156046 0.14971405 0.1503268\n",
            " 0.15196078 0.14726307 0.14501634 0.14603758 0.12479575 0.13112745\n",
            " 0.11397059 0.1190768  0.12377451 0.13562092 0.12908497 0.13459967\n",
            " 0.12806373 0.13031046 0.12724673 0.13521242 0.14522059 0.15257353\n",
            " 0.14848856 0.14338235 0.14562908 0.15236928 0.15400327 0.14971405\n",
            " 0.1621732  0.16319444 0.16584967 0.16356829 0.16408411 0.16347325\n",
            " 0.16256455 0.16159397 0.16065377 0.15979779 0.15905298 0.15842418\n",
            " 0.15790114 0.15746579 0.15709756 0.15677717]\n",
            "13 day output [[0.15648842]]\n",
            "14 day input [0.15992647 0.15788399 0.16441993 0.17892157 0.17933007 0.19260621\n",
            " 0.20812908 0.18974673 0.18055556 0.18239379 0.17708333 0.17810458\n",
            " 0.18055556 0.17810458 0.17851307 0.19607843 0.18913399 0.18954248\n",
            " 0.19403595 0.19444444 0.20200163 0.19771242 0.19934641 0.19873366\n",
            " 0.1997549  0.2128268  0.21568627 0.20445261 0.21772876 0.21098856\n",
            " 0.21425654 0.19750817 0.18811275 0.17851307 0.17381536 0.16033497\n",
            " 0.16564542 0.17116013 0.17422386 0.18035131 0.17401961 0.16278595\n",
            " 0.16973039 0.17810458 0.17034314 0.16830065 0.17279412 0.17544935\n",
            " 0.18382353 0.19138072 0.18913399 0.19097222 0.17238562 0.16830065\n",
            " 0.1693219  0.17177288 0.16156046 0.14971405 0.1503268  0.15196078\n",
            " 0.14726307 0.14501634 0.14603758 0.12479575 0.13112745 0.11397059\n",
            " 0.1190768  0.12377451 0.13562092 0.12908497 0.13459967 0.12806373\n",
            " 0.13031046 0.12724673 0.13521242 0.14522059 0.15257353 0.14848856\n",
            " 0.14338235 0.14562908 0.15236928 0.15400327 0.14971405 0.1621732\n",
            " 0.16319444 0.16584967 0.16356829 0.16408411 0.16347325 0.16256455\n",
            " 0.16159397 0.16065377 0.15979779 0.15905298 0.15842418 0.15790114\n",
            " 0.15746579 0.15709756 0.15677717 0.15648842]\n",
            "14 day output [[0.15621924]]\n",
            "15 day input [0.15788399 0.16441993 0.17892157 0.17933007 0.19260621 0.20812908\n",
            " 0.18974673 0.18055556 0.18239379 0.17708333 0.17810458 0.18055556\n",
            " 0.17810458 0.17851307 0.19607843 0.18913399 0.18954248 0.19403595\n",
            " 0.19444444 0.20200163 0.19771242 0.19934641 0.19873366 0.1997549\n",
            " 0.2128268  0.21568627 0.20445261 0.21772876 0.21098856 0.21425654\n",
            " 0.19750817 0.18811275 0.17851307 0.17381536 0.16033497 0.16564542\n",
            " 0.17116013 0.17422386 0.18035131 0.17401961 0.16278595 0.16973039\n",
            " 0.17810458 0.17034314 0.16830065 0.17279412 0.17544935 0.18382353\n",
            " 0.19138072 0.18913399 0.19097222 0.17238562 0.16830065 0.1693219\n",
            " 0.17177288 0.16156046 0.14971405 0.1503268  0.15196078 0.14726307\n",
            " 0.14501634 0.14603758 0.12479575 0.13112745 0.11397059 0.1190768\n",
            " 0.12377451 0.13562092 0.12908497 0.13459967 0.12806373 0.13031046\n",
            " 0.12724673 0.13521242 0.14522059 0.15257353 0.14848856 0.14338235\n",
            " 0.14562908 0.15236928 0.15400327 0.14971405 0.1621732  0.16319444\n",
            " 0.16584967 0.16356829 0.16408411 0.16347325 0.16256455 0.16159397\n",
            " 0.16065377 0.15979779 0.15905298 0.15842418 0.15790114 0.15746579\n",
            " 0.15709756 0.15677717 0.15648842 0.15621924]\n",
            "15 day output [[0.1559614]]\n",
            "16 day input [0.16441993 0.17892157 0.17933007 0.19260621 0.20812908 0.18974673\n",
            " 0.18055556 0.18239379 0.17708333 0.17810458 0.18055556 0.17810458\n",
            " 0.17851307 0.19607843 0.18913399 0.18954248 0.19403595 0.19444444\n",
            " 0.20200163 0.19771242 0.19934641 0.19873366 0.1997549  0.2128268\n",
            " 0.21568627 0.20445261 0.21772876 0.21098856 0.21425654 0.19750817\n",
            " 0.18811275 0.17851307 0.17381536 0.16033497 0.16564542 0.17116013\n",
            " 0.17422386 0.18035131 0.17401961 0.16278595 0.16973039 0.17810458\n",
            " 0.17034314 0.16830065 0.17279412 0.17544935 0.18382353 0.19138072\n",
            " 0.18913399 0.19097222 0.17238562 0.16830065 0.1693219  0.17177288\n",
            " 0.16156046 0.14971405 0.1503268  0.15196078 0.14726307 0.14501634\n",
            " 0.14603758 0.12479575 0.13112745 0.11397059 0.1190768  0.12377451\n",
            " 0.13562092 0.12908497 0.13459967 0.12806373 0.13031046 0.12724673\n",
            " 0.13521242 0.14522059 0.15257353 0.14848856 0.14338235 0.14562908\n",
            " 0.15236928 0.15400327 0.14971405 0.1621732  0.16319444 0.16584967\n",
            " 0.16356829 0.16408411 0.16347325 0.16256455 0.16159397 0.16065377\n",
            " 0.15979779 0.15905298 0.15842418 0.15790114 0.15746579 0.15709756\n",
            " 0.15677717 0.15648842 0.15621924 0.15596139]\n",
            "16 day output [[0.15570997]]\n",
            "17 day input [0.17892157 0.17933007 0.19260621 0.20812908 0.18974673 0.18055556\n",
            " 0.18239379 0.17708333 0.17810458 0.18055556 0.17810458 0.17851307\n",
            " 0.19607843 0.18913399 0.18954248 0.19403595 0.19444444 0.20200163\n",
            " 0.19771242 0.19934641 0.19873366 0.1997549  0.2128268  0.21568627\n",
            " 0.20445261 0.21772876 0.21098856 0.21425654 0.19750817 0.18811275\n",
            " 0.17851307 0.17381536 0.16033497 0.16564542 0.17116013 0.17422386\n",
            " 0.18035131 0.17401961 0.16278595 0.16973039 0.17810458 0.17034314\n",
            " 0.16830065 0.17279412 0.17544935 0.18382353 0.19138072 0.18913399\n",
            " 0.19097222 0.17238562 0.16830065 0.1693219  0.17177288 0.16156046\n",
            " 0.14971405 0.1503268  0.15196078 0.14726307 0.14501634 0.14603758\n",
            " 0.12479575 0.13112745 0.11397059 0.1190768  0.12377451 0.13562092\n",
            " 0.12908497 0.13459967 0.12806373 0.13031046 0.12724673 0.13521242\n",
            " 0.14522059 0.15257353 0.14848856 0.14338235 0.14562908 0.15236928\n",
            " 0.15400327 0.14971405 0.1621732  0.16319444 0.16584967 0.16356829\n",
            " 0.16408411 0.16347325 0.16256455 0.16159397 0.16065377 0.15979779\n",
            " 0.15905298 0.15842418 0.15790114 0.15746579 0.15709756 0.15677717\n",
            " 0.15648842 0.15621924 0.15596139 0.15570997]\n",
            "17 day output [[0.1554627]]\n",
            "18 day input [0.17933007 0.19260621 0.20812908 0.18974673 0.18055556 0.18239379\n",
            " 0.17708333 0.17810458 0.18055556 0.17810458 0.17851307 0.19607843\n",
            " 0.18913399 0.18954248 0.19403595 0.19444444 0.20200163 0.19771242\n",
            " 0.19934641 0.19873366 0.1997549  0.2128268  0.21568627 0.20445261\n",
            " 0.21772876 0.21098856 0.21425654 0.19750817 0.18811275 0.17851307\n",
            " 0.17381536 0.16033497 0.16564542 0.17116013 0.17422386 0.18035131\n",
            " 0.17401961 0.16278595 0.16973039 0.17810458 0.17034314 0.16830065\n",
            " 0.17279412 0.17544935 0.18382353 0.19138072 0.18913399 0.19097222\n",
            " 0.17238562 0.16830065 0.1693219  0.17177288 0.16156046 0.14971405\n",
            " 0.1503268  0.15196078 0.14726307 0.14501634 0.14603758 0.12479575\n",
            " 0.13112745 0.11397059 0.1190768  0.12377451 0.13562092 0.12908497\n",
            " 0.13459967 0.12806373 0.13031046 0.12724673 0.13521242 0.14522059\n",
            " 0.15257353 0.14848856 0.14338235 0.14562908 0.15236928 0.15400327\n",
            " 0.14971405 0.1621732  0.16319444 0.16584967 0.16356829 0.16408411\n",
            " 0.16347325 0.16256455 0.16159397 0.16065377 0.15979779 0.15905298\n",
            " 0.15842418 0.15790114 0.15746579 0.15709756 0.15677717 0.15648842\n",
            " 0.15621924 0.15596139 0.15570997 0.1554627 ]\n",
            "18 day output [[0.1552189]]\n",
            "19 day input [0.19260621 0.20812908 0.18974673 0.18055556 0.18239379 0.17708333\n",
            " 0.17810458 0.18055556 0.17810458 0.17851307 0.19607843 0.18913399\n",
            " 0.18954248 0.19403595 0.19444444 0.20200163 0.19771242 0.19934641\n",
            " 0.19873366 0.1997549  0.2128268  0.21568627 0.20445261 0.21772876\n",
            " 0.21098856 0.21425654 0.19750817 0.18811275 0.17851307 0.17381536\n",
            " 0.16033497 0.16564542 0.17116013 0.17422386 0.18035131 0.17401961\n",
            " 0.16278595 0.16973039 0.17810458 0.17034314 0.16830065 0.17279412\n",
            " 0.17544935 0.18382353 0.19138072 0.18913399 0.19097222 0.17238562\n",
            " 0.16830065 0.1693219  0.17177288 0.16156046 0.14971405 0.1503268\n",
            " 0.15196078 0.14726307 0.14501634 0.14603758 0.12479575 0.13112745\n",
            " 0.11397059 0.1190768  0.12377451 0.13562092 0.12908497 0.13459967\n",
            " 0.12806373 0.13031046 0.12724673 0.13521242 0.14522059 0.15257353\n",
            " 0.14848856 0.14338235 0.14562908 0.15236928 0.15400327 0.14971405\n",
            " 0.1621732  0.16319444 0.16584967 0.16356829 0.16408411 0.16347325\n",
            " 0.16256455 0.16159397 0.16065377 0.15979779 0.15905298 0.15842418\n",
            " 0.15790114 0.15746579 0.15709756 0.15677717 0.15648842 0.15621924\n",
            " 0.15596139 0.15570997 0.1554627  0.1552189 ]\n",
            "19 day output [[0.15497892]]\n",
            "20 day input [0.20812908 0.18974673 0.18055556 0.18239379 0.17708333 0.17810458\n",
            " 0.18055556 0.17810458 0.17851307 0.19607843 0.18913399 0.18954248\n",
            " 0.19403595 0.19444444 0.20200163 0.19771242 0.19934641 0.19873366\n",
            " 0.1997549  0.2128268  0.21568627 0.20445261 0.21772876 0.21098856\n",
            " 0.21425654 0.19750817 0.18811275 0.17851307 0.17381536 0.16033497\n",
            " 0.16564542 0.17116013 0.17422386 0.18035131 0.17401961 0.16278595\n",
            " 0.16973039 0.17810458 0.17034314 0.16830065 0.17279412 0.17544935\n",
            " 0.18382353 0.19138072 0.18913399 0.19097222 0.17238562 0.16830065\n",
            " 0.1693219  0.17177288 0.16156046 0.14971405 0.1503268  0.15196078\n",
            " 0.14726307 0.14501634 0.14603758 0.12479575 0.13112745 0.11397059\n",
            " 0.1190768  0.12377451 0.13562092 0.12908497 0.13459967 0.12806373\n",
            " 0.13031046 0.12724673 0.13521242 0.14522059 0.15257353 0.14848856\n",
            " 0.14338235 0.14562908 0.15236928 0.15400327 0.14971405 0.1621732\n",
            " 0.16319444 0.16584967 0.16356829 0.16408411 0.16347325 0.16256455\n",
            " 0.16159397 0.16065377 0.15979779 0.15905298 0.15842418 0.15790114\n",
            " 0.15746579 0.15709756 0.15677717 0.15648842 0.15621924 0.15596139\n",
            " 0.15570997 0.1554627  0.1552189  0.15497892]\n",
            "20 day output [[0.15474336]]\n",
            "21 day input [0.18974673 0.18055556 0.18239379 0.17708333 0.17810458 0.18055556\n",
            " 0.17810458 0.17851307 0.19607843 0.18913399 0.18954248 0.19403595\n",
            " 0.19444444 0.20200163 0.19771242 0.19934641 0.19873366 0.1997549\n",
            " 0.2128268  0.21568627 0.20445261 0.21772876 0.21098856 0.21425654\n",
            " 0.19750817 0.18811275 0.17851307 0.17381536 0.16033497 0.16564542\n",
            " 0.17116013 0.17422386 0.18035131 0.17401961 0.16278595 0.16973039\n",
            " 0.17810458 0.17034314 0.16830065 0.17279412 0.17544935 0.18382353\n",
            " 0.19138072 0.18913399 0.19097222 0.17238562 0.16830065 0.1693219\n",
            " 0.17177288 0.16156046 0.14971405 0.1503268  0.15196078 0.14726307\n",
            " 0.14501634 0.14603758 0.12479575 0.13112745 0.11397059 0.1190768\n",
            " 0.12377451 0.13562092 0.12908497 0.13459967 0.12806373 0.13031046\n",
            " 0.12724673 0.13521242 0.14522059 0.15257353 0.14848856 0.14338235\n",
            " 0.14562908 0.15236928 0.15400327 0.14971405 0.1621732  0.16319444\n",
            " 0.16584967 0.16356829 0.16408411 0.16347325 0.16256455 0.16159397\n",
            " 0.16065377 0.15979779 0.15905298 0.15842418 0.15790114 0.15746579\n",
            " 0.15709756 0.15677717 0.15648842 0.15621924 0.15596139 0.15570997\n",
            " 0.1554627  0.1552189  0.15497892 0.15474336]\n",
            "21 day output [[0.15451299]]\n",
            "22 day input [0.18055556 0.18239379 0.17708333 0.17810458 0.18055556 0.17810458\n",
            " 0.17851307 0.19607843 0.18913399 0.18954248 0.19403595 0.19444444\n",
            " 0.20200163 0.19771242 0.19934641 0.19873366 0.1997549  0.2128268\n",
            " 0.21568627 0.20445261 0.21772876 0.21098856 0.21425654 0.19750817\n",
            " 0.18811275 0.17851307 0.17381536 0.16033497 0.16564542 0.17116013\n",
            " 0.17422386 0.18035131 0.17401961 0.16278595 0.16973039 0.17810458\n",
            " 0.17034314 0.16830065 0.17279412 0.17544935 0.18382353 0.19138072\n",
            " 0.18913399 0.19097222 0.17238562 0.16830065 0.1693219  0.17177288\n",
            " 0.16156046 0.14971405 0.1503268  0.15196078 0.14726307 0.14501634\n",
            " 0.14603758 0.12479575 0.13112745 0.11397059 0.1190768  0.12377451\n",
            " 0.13562092 0.12908497 0.13459967 0.12806373 0.13031046 0.12724673\n",
            " 0.13521242 0.14522059 0.15257353 0.14848856 0.14338235 0.14562908\n",
            " 0.15236928 0.15400327 0.14971405 0.1621732  0.16319444 0.16584967\n",
            " 0.16356829 0.16408411 0.16347325 0.16256455 0.16159397 0.16065377\n",
            " 0.15979779 0.15905298 0.15842418 0.15790114 0.15746579 0.15709756\n",
            " 0.15677717 0.15648842 0.15621924 0.15596139 0.15570997 0.1554627\n",
            " 0.1552189  0.15497892 0.15474336 0.15451299]\n",
            "22 day output [[0.15428826]]\n",
            "23 day input [0.18239379 0.17708333 0.17810458 0.18055556 0.17810458 0.17851307\n",
            " 0.19607843 0.18913399 0.18954248 0.19403595 0.19444444 0.20200163\n",
            " 0.19771242 0.19934641 0.19873366 0.1997549  0.2128268  0.21568627\n",
            " 0.20445261 0.21772876 0.21098856 0.21425654 0.19750817 0.18811275\n",
            " 0.17851307 0.17381536 0.16033497 0.16564542 0.17116013 0.17422386\n",
            " 0.18035131 0.17401961 0.16278595 0.16973039 0.17810458 0.17034314\n",
            " 0.16830065 0.17279412 0.17544935 0.18382353 0.19138072 0.18913399\n",
            " 0.19097222 0.17238562 0.16830065 0.1693219  0.17177288 0.16156046\n",
            " 0.14971405 0.1503268  0.15196078 0.14726307 0.14501634 0.14603758\n",
            " 0.12479575 0.13112745 0.11397059 0.1190768  0.12377451 0.13562092\n",
            " 0.12908497 0.13459967 0.12806373 0.13031046 0.12724673 0.13521242\n",
            " 0.14522059 0.15257353 0.14848856 0.14338235 0.14562908 0.15236928\n",
            " 0.15400327 0.14971405 0.1621732  0.16319444 0.16584967 0.16356829\n",
            " 0.16408411 0.16347325 0.16256455 0.16159397 0.16065377 0.15979779\n",
            " 0.15905298 0.15842418 0.15790114 0.15746579 0.15709756 0.15677717\n",
            " 0.15648842 0.15621924 0.15596139 0.15570997 0.1554627  0.1552189\n",
            " 0.15497892 0.15474336 0.15451299 0.15428826]\n",
            "23 day output [[0.15406944]]\n",
            "24 day input [0.17708333 0.17810458 0.18055556 0.17810458 0.17851307 0.19607843\n",
            " 0.18913399 0.18954248 0.19403595 0.19444444 0.20200163 0.19771242\n",
            " 0.19934641 0.19873366 0.1997549  0.2128268  0.21568627 0.20445261\n",
            " 0.21772876 0.21098856 0.21425654 0.19750817 0.18811275 0.17851307\n",
            " 0.17381536 0.16033497 0.16564542 0.17116013 0.17422386 0.18035131\n",
            " 0.17401961 0.16278595 0.16973039 0.17810458 0.17034314 0.16830065\n",
            " 0.17279412 0.17544935 0.18382353 0.19138072 0.18913399 0.19097222\n",
            " 0.17238562 0.16830065 0.1693219  0.17177288 0.16156046 0.14971405\n",
            " 0.1503268  0.15196078 0.14726307 0.14501634 0.14603758 0.12479575\n",
            " 0.13112745 0.11397059 0.1190768  0.12377451 0.13562092 0.12908497\n",
            " 0.13459967 0.12806373 0.13031046 0.12724673 0.13521242 0.14522059\n",
            " 0.15257353 0.14848856 0.14338235 0.14562908 0.15236928 0.15400327\n",
            " 0.14971405 0.1621732  0.16319444 0.16584967 0.16356829 0.16408411\n",
            " 0.16347325 0.16256455 0.16159397 0.16065377 0.15979779 0.15905298\n",
            " 0.15842418 0.15790114 0.15746579 0.15709756 0.15677717 0.15648842\n",
            " 0.15621924 0.15596139 0.15570997 0.1554627  0.1552189  0.15497892\n",
            " 0.15474336 0.15451299 0.15428826 0.15406944]\n",
            "24 day output [[0.15385641]]\n",
            "25 day input [0.17810458 0.18055556 0.17810458 0.17851307 0.19607843 0.18913399\n",
            " 0.18954248 0.19403595 0.19444444 0.20200163 0.19771242 0.19934641\n",
            " 0.19873366 0.1997549  0.2128268  0.21568627 0.20445261 0.21772876\n",
            " 0.21098856 0.21425654 0.19750817 0.18811275 0.17851307 0.17381536\n",
            " 0.16033497 0.16564542 0.17116013 0.17422386 0.18035131 0.17401961\n",
            " 0.16278595 0.16973039 0.17810458 0.17034314 0.16830065 0.17279412\n",
            " 0.17544935 0.18382353 0.19138072 0.18913399 0.19097222 0.17238562\n",
            " 0.16830065 0.1693219  0.17177288 0.16156046 0.14971405 0.1503268\n",
            " 0.15196078 0.14726307 0.14501634 0.14603758 0.12479575 0.13112745\n",
            " 0.11397059 0.1190768  0.12377451 0.13562092 0.12908497 0.13459967\n",
            " 0.12806373 0.13031046 0.12724673 0.13521242 0.14522059 0.15257353\n",
            " 0.14848856 0.14338235 0.14562908 0.15236928 0.15400327 0.14971405\n",
            " 0.1621732  0.16319444 0.16584967 0.16356829 0.16408411 0.16347325\n",
            " 0.16256455 0.16159397 0.16065377 0.15979779 0.15905298 0.15842418\n",
            " 0.15790114 0.15746579 0.15709756 0.15677717 0.15648842 0.15621924\n",
            " 0.15596139 0.15570997 0.1554627  0.1552189  0.15497892 0.15474336\n",
            " 0.15451299 0.15428826 0.15406944 0.15385641]\n",
            "25 day output [[0.15364887]]\n",
            "26 day input [0.18055556 0.17810458 0.17851307 0.19607843 0.18913399 0.18954248\n",
            " 0.19403595 0.19444444 0.20200163 0.19771242 0.19934641 0.19873366\n",
            " 0.1997549  0.2128268  0.21568627 0.20445261 0.21772876 0.21098856\n",
            " 0.21425654 0.19750817 0.18811275 0.17851307 0.17381536 0.16033497\n",
            " 0.16564542 0.17116013 0.17422386 0.18035131 0.17401961 0.16278595\n",
            " 0.16973039 0.17810458 0.17034314 0.16830065 0.17279412 0.17544935\n",
            " 0.18382353 0.19138072 0.18913399 0.19097222 0.17238562 0.16830065\n",
            " 0.1693219  0.17177288 0.16156046 0.14971405 0.1503268  0.15196078\n",
            " 0.14726307 0.14501634 0.14603758 0.12479575 0.13112745 0.11397059\n",
            " 0.1190768  0.12377451 0.13562092 0.12908497 0.13459967 0.12806373\n",
            " 0.13031046 0.12724673 0.13521242 0.14522059 0.15257353 0.14848856\n",
            " 0.14338235 0.14562908 0.15236928 0.15400327 0.14971405 0.1621732\n",
            " 0.16319444 0.16584967 0.16356829 0.16408411 0.16347325 0.16256455\n",
            " 0.16159397 0.16065377 0.15979779 0.15905298 0.15842418 0.15790114\n",
            " 0.15746579 0.15709756 0.15677717 0.15648842 0.15621924 0.15596139\n",
            " 0.15570997 0.1554627  0.1552189  0.15497892 0.15474336 0.15451299\n",
            " 0.15428826 0.15406944 0.15385641 0.15364887]\n",
            "26 day output [[0.15344644]]\n",
            "27 day input [0.17810458 0.17851307 0.19607843 0.18913399 0.18954248 0.19403595\n",
            " 0.19444444 0.20200163 0.19771242 0.19934641 0.19873366 0.1997549\n",
            " 0.2128268  0.21568627 0.20445261 0.21772876 0.21098856 0.21425654\n",
            " 0.19750817 0.18811275 0.17851307 0.17381536 0.16033497 0.16564542\n",
            " 0.17116013 0.17422386 0.18035131 0.17401961 0.16278595 0.16973039\n",
            " 0.17810458 0.17034314 0.16830065 0.17279412 0.17544935 0.18382353\n",
            " 0.19138072 0.18913399 0.19097222 0.17238562 0.16830065 0.1693219\n",
            " 0.17177288 0.16156046 0.14971405 0.1503268  0.15196078 0.14726307\n",
            " 0.14501634 0.14603758 0.12479575 0.13112745 0.11397059 0.1190768\n",
            " 0.12377451 0.13562092 0.12908497 0.13459967 0.12806373 0.13031046\n",
            " 0.12724673 0.13521242 0.14522059 0.15257353 0.14848856 0.14338235\n",
            " 0.14562908 0.15236928 0.15400327 0.14971405 0.1621732  0.16319444\n",
            " 0.16584967 0.16356829 0.16408411 0.16347325 0.16256455 0.16159397\n",
            " 0.16065377 0.15979779 0.15905298 0.15842418 0.15790114 0.15746579\n",
            " 0.15709756 0.15677717 0.15648842 0.15621924 0.15596139 0.15570997\n",
            " 0.1554627  0.1552189  0.15497892 0.15474336 0.15451299 0.15428826\n",
            " 0.15406944 0.15385641 0.15364887 0.15344644]\n",
            "27 day output [[0.15324865]]\n",
            "28 day input [0.17851307 0.19607843 0.18913399 0.18954248 0.19403595 0.19444444\n",
            " 0.20200163 0.19771242 0.19934641 0.19873366 0.1997549  0.2128268\n",
            " 0.21568627 0.20445261 0.21772876 0.21098856 0.21425654 0.19750817\n",
            " 0.18811275 0.17851307 0.17381536 0.16033497 0.16564542 0.17116013\n",
            " 0.17422386 0.18035131 0.17401961 0.16278595 0.16973039 0.17810458\n",
            " 0.17034314 0.16830065 0.17279412 0.17544935 0.18382353 0.19138072\n",
            " 0.18913399 0.19097222 0.17238562 0.16830065 0.1693219  0.17177288\n",
            " 0.16156046 0.14971405 0.1503268  0.15196078 0.14726307 0.14501634\n",
            " 0.14603758 0.12479575 0.13112745 0.11397059 0.1190768  0.12377451\n",
            " 0.13562092 0.12908497 0.13459967 0.12806373 0.13031046 0.12724673\n",
            " 0.13521242 0.14522059 0.15257353 0.14848856 0.14338235 0.14562908\n",
            " 0.15236928 0.15400327 0.14971405 0.1621732  0.16319444 0.16584967\n",
            " 0.16356829 0.16408411 0.16347325 0.16256455 0.16159397 0.16065377\n",
            " 0.15979779 0.15905298 0.15842418 0.15790114 0.15746579 0.15709756\n",
            " 0.15677717 0.15648842 0.15621924 0.15596139 0.15570997 0.1554627\n",
            " 0.1552189  0.15497892 0.15474336 0.15451299 0.15428826 0.15406944\n",
            " 0.15385641 0.15364887 0.15344644 0.15324865]\n",
            "28 day output [[0.15305497]]\n",
            "29 day input [0.19607843 0.18913399 0.18954248 0.19403595 0.19444444 0.20200163\n",
            " 0.19771242 0.19934641 0.19873366 0.1997549  0.2128268  0.21568627\n",
            " 0.20445261 0.21772876 0.21098856 0.21425654 0.19750817 0.18811275\n",
            " 0.17851307 0.17381536 0.16033497 0.16564542 0.17116013 0.17422386\n",
            " 0.18035131 0.17401961 0.16278595 0.16973039 0.17810458 0.17034314\n",
            " 0.16830065 0.17279412 0.17544935 0.18382353 0.19138072 0.18913399\n",
            " 0.19097222 0.17238562 0.16830065 0.1693219  0.17177288 0.16156046\n",
            " 0.14971405 0.1503268  0.15196078 0.14726307 0.14501634 0.14603758\n",
            " 0.12479575 0.13112745 0.11397059 0.1190768  0.12377451 0.13562092\n",
            " 0.12908497 0.13459967 0.12806373 0.13031046 0.12724673 0.13521242\n",
            " 0.14522059 0.15257353 0.14848856 0.14338235 0.14562908 0.15236928\n",
            " 0.15400327 0.14971405 0.1621732  0.16319444 0.16584967 0.16356829\n",
            " 0.16408411 0.16347325 0.16256455 0.16159397 0.16065377 0.15979779\n",
            " 0.15905298 0.15842418 0.15790114 0.15746579 0.15709756 0.15677717\n",
            " 0.15648842 0.15621924 0.15596139 0.15570997 0.1554627  0.1552189\n",
            " 0.15497892 0.15474336 0.15451299 0.15428826 0.15406944 0.15385641\n",
            " 0.15364887 0.15344644 0.15324865 0.15305497]\n",
            "29 day output [[0.15286505]]\n",
            "[[0.16356828808784485], [0.16408410668373108], [0.1634732484817505], [0.16256454586982727], [0.1615939736366272], [0.16065376996994019], [0.1597977876663208], [0.1590529829263687], [0.15842418372631073], [0.15790113806724548], [0.15746578574180603], [0.15709756314754486], [0.15677717328071594], [0.15648841857910156], [0.1562192440032959], [0.15596139430999756], [0.15570996701717377], [0.15546269714832306], [0.15521889925003052], [0.1549789160490036], [0.15474335849285126], [0.15451298654079437], [0.15428826212882996], [0.1540694385766983], [0.15385641157627106], [0.15364886820316315], [0.15344643592834473], [0.1532486528158188], [0.15305496752262115], [0.15286505222320557]]\n"
          ]
        }
      ]
    },
    {
      "cell_type": "code",
      "metadata": {
        "id": "hJ3H-k7He8Ld"
      },
      "source": [
        "day_new = np.arange(1,101)\n",
        "day_pred = np.arange(101,131)"
      ],
      "execution_count": null,
      "outputs": []
    },
    {
      "cell_type": "code",
      "metadata": {
        "id": "_Lo4R7uefTpn"
      },
      "source": [
        "df3 = df_close.tolist()\n",
        "df3.extend(lst_output)"
      ],
      "execution_count": null,
      "outputs": []
    },
    {
      "cell_type": "code",
      "metadata": {
        "colab": {
          "base_uri": "https://localhost:8080/"
        },
        "id": "aGDtB0tifWLa",
        "outputId": "e7e77c3f-66d9-4e25-9877-c40b54c356fd"
      },
      "source": [
        "len(df_close)"
      ],
      "execution_count": null,
      "outputs": [
        {
          "output_type": "execute_result",
          "data": {
            "text/plain": [
              "2035"
            ]
          },
          "metadata": {},
          "execution_count": 49
        }
      ]
    },
    {
      "cell_type": "code",
      "metadata": {
        "colab": {
          "base_uri": "https://localhost:8080/",
          "height": 282
        },
        "id": "YnmZW4Tkmju9",
        "outputId": "838d0d4c-2f7b-4b0b-f794-1c2678bd461c"
      },
      "source": [
        "plt.plot(day_new,scaler.inverse_transform(df_close[1935:]))\n",
        "plt.plot(day_pred,scaler.inverse_transform(lst_output))"
      ],
      "execution_count": null,
      "outputs": [
        {
          "output_type": "execute_result",
          "data": {
            "text/plain": [
              "[<matplotlib.lines.Line2D at 0x7f03a2b0ead0>]"
            ]
          },
          "metadata": {},
          "execution_count": 59
        },
        {
          "output_type": "display_data",
          "data": {
            "image/png": "[encoded data removed]",
            "text/plain": [
              "<Figure size 432x288 with 1 Axes>"
            ]
          },
          "metadata": {
            "needs_background": "light"
          }
        }
      ]
    }
  ]
}